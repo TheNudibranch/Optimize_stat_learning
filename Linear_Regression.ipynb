{
 "cells": [
  {
   "cell_type": "markdown",
   "metadata": {},
   "source": [
    "### Import Dependencies"
   ]
  },
  {
   "cell_type": "code",
   "execution_count": 9,
   "metadata": {
    "collapsed": true
   },
   "outputs": [],
   "source": [
    "import numpy as np\n",
    "import matplotlib.pyplot as plt\n",
    "\n",
    "%matplotlib inline"
   ]
  },
  {
   "cell_type": "markdown",
   "metadata": {
    "collapsed": true
   },
   "source": [
    "### Creating Pseudo Data"
   ]
  },
  {
   "cell_type": "code",
   "execution_count": 15,
   "metadata": {
    "collapsed": true
   },
   "outputs": [],
   "source": [
    "beta_0 = 3.0\n",
    "beta_1 = 6.0\n",
    "beta_2 = 0.5\n",
    "beta_3 = 0.75\n",
    "\n",
    "def cubic_augment(x):\n",
    "    return (beta_0 + beta_1*x + beta_2 * (x ** 2) + beta_3 * (x ** 3)) + np.random.uniform(-5, 5, size=1)\n",
    "cubic_np = np.vectorize(cubic_augment)"
   ]
  },
  {
   "cell_type": "code",
   "execution_count": 19,
   "metadata": {
    "collapsed": true
   },
   "outputs": [],
   "source": [
    "X_train = np.random.uniform(-5, 5, size=30)"
   ]
  },
  {
   "cell_type": "code",
   "execution_count": 20,
   "metadata": {},
   "outputs": [],
   "source": [
    "y_train = cubic_np(X_train)"
   ]
  },
  {
   "cell_type": "code",
   "execution_count": 21,
   "metadata": {},
   "outputs": [
    {
     "data": {
      "text/plain": [
       "<matplotlib.collections.PathCollection at 0x8e2abf48d0>"
      ]
     },
     "execution_count": 21,
     "metadata": {},
     "output_type": "execute_result"
    },
    {
     "data": {
      "image/png": "[encoded data removed]",
      "text/plain": [
       "<matplotlib.figure.Figure at 0x8e29bd37f0>"
      ]
     },
     "metadata": {},
     "output_type": "display_data"
    }
   ],
   "source": [
    "plt.scatter(X_train, y_train)"
   ]
  },
  {
   "cell_type": "code",
   "execution_count": 104,
   "metadata": {
    "collapsed": true
   },
   "outputs": [],
   "source": [
    "def train(X_data, y_data, degree=3, batch_size=5, learning_rate=0.0001):\n",
    "    # Initialize the parameter list\n",
    "    beta_list = [np.random.uniform(0, 3) for _ in range(degree + 1)]\n",
    "    convergence = 0.9\n",
    "    loss = 500000\n",
    "    previous_losses = []\n",
    "    previous = False\n",
    "    while loss > convergence and previous == False:\n",
    "        loss_list = []\n",
    "        # We are going to be training by vectorization, instead of individually computing the gradients\n",
    "        for i in range(len(X_data) // batch_size):\n",
    "            x_batch = X_data[i * batch_size: (i + 1) * batch_size]\n",
    "            y_batch = y_data[i * batch_size: (i + 1) * batch_size]\n",
    "            \n",
    "            y_hat = np.sum([beta_list[i] * (x_batch ** i) for i in range(degree + 1) ],axis=0)\n",
    "            batch_loss = ((y_hat - y_batch) ** 2) * (1/float(batch_size))\n",
    "            loss_list.append(batch_loss)\n",
    "            gradient_list = [np.sum(2 * (y_hat - y_batch) * (x_batch ** i)) for i in range(degree +1)]\n",
    "            \n",
    "            beta_list = beta_list - np.multiply(((1.0/float(batch_size)) * learning_rate) , gradient_list)\n",
    "        \n",
    "        loss = np.sum(loss_list)\n",
    "        previous_losses.append(loss)\n",
    "        if len(previous_losses) > 50 and list(map(int, previous_losses[-30:-1:])) == list(map(int, previous_losses[-29::])):\n",
    "            previous = True\n",
    "    return beta_list"
   ]
  },
  {
   "cell_type": "code",
   "execution_count": 105,
   "metadata": {
    "collapsed": true
   },
   "outputs": [],
   "source": [
    "beta_list = [np.random.uniform(0, 3) for _ in range(3 + 1)]\n",
    "y_hat = np.sum([beta_list[i] * (X_train ** i) for i in range(3 + 1) ],axis=0)"
   ]
  },
  {
   "cell_type": "code",
   "execution_count": 106,
   "metadata": {},
   "outputs": [
    {
     "data": {
      "text/plain": [
       "(30,)"
      ]
     },
     "execution_count": 106,
     "metadata": {},
     "output_type": "execute_result"
    }
   ],
   "source": [
    "y_hat.shape"
   ]
  },
  {
   "cell_type": "code",
   "execution_count": 107,
   "metadata": {},
   "outputs": [
    {
     "data": {
      "text/plain": [
       "array([2.22099936, 5.1244553 , 0.54596651, 0.79284898])"
      ]
     },
     "execution_count": 107,
     "metadata": {},
     "output_type": "execute_result"
    }
   ],
   "source": [
    "train(X_train, y_train)"
   ]
  },
  {
   "cell_type": "code",
   "execution_count": 80,
   "metadata": {},
   "outputs": [
    {
     "data": {
      "text/plain": [
       "[0.9617990440051114,\n",
       " 0.9339799154516276,\n",
       " 0.9558944136703837,\n",
       " 0.4406147764456708]"
      ]
     },
     "execution_count": 80,
     "metadata": {},
     "output_type": "execute_result"
    }
   ],
   "source": [
    "beta_list"
   ]
  },
  {
   "cell_type": "code",
   "execution_count": 91,
   "metadata": {},
   "outputs": [
    {
     "data": {
      "text/plain": [
       "[0.9339799154516276, 0.9558944136703837, 0.4406147764456708]"
      ]
     },
     "execution_count": 91,
     "metadata": {},
     "output_type": "execute_result"
    }
   ],
   "source": [
    "beta_list[-3::]"
   ]
  },
  {
   "cell_type": "code",
   "execution_count": null,
   "metadata": {
    "collapsed": true
   },
   "outputs": [],
   "source": []
  }
 ],
 "metadata": {
  "kernelspec": {
   "display_name": "Python 3",
   "language": "python",
   "name": "python3"
  },
  "language_info": {
   "codemirror_mode": {
    "name": "ipython",
    "version": 3
   },
   "file_extension": ".py",
   "mimetype": "text/x-python",
   "name": "python",
   "nbconvert_exporter": "python",
   "pygments_lexer": "ipython3",
   "version": "3.5.2"
  }
 },
 "nbformat": 4,
 "nbformat_minor": 2
}
