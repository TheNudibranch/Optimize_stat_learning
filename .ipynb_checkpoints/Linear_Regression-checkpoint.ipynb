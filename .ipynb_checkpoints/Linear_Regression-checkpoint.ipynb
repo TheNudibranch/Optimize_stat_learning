{
 "cells": [
  {
   "cell_type": "markdown",
   "metadata": {},
   "source": [
    "### Import Dependencies"
   ]
  },
  {
   "cell_type": "code",
   "execution_count": 1,
   "metadata": {
    "collapsed": true
   },
   "outputs": [],
   "source": [
    "import numpy as np\n",
    "import matplotlib.pyplot as plt\n",
    "from matplotlib.animation import FuncAnimation\n",
    "from matplotlib import rc\n",
    "from moviepy.editor import VideoFileClip\n",
    "import os\n",
    "rc('animation', html='html5')\n",
    "%matplotlib inline"
   ]
  },
  {
   "cell_type": "markdown",
   "metadata": {
    "collapsed": true
   },
   "source": [
    "### Creating Pseudo Data"
   ]
  },
  {
   "cell_type": "code",
   "execution_count": 2,
   "metadata": {
    "collapsed": true
   },
   "outputs": [],
   "source": [
    "beta_0 = 3.0\n",
    "beta_1 = 6.0\n",
    "beta_2 = 0.5\n",
    "beta_3 = 0.75\n",
    "\n",
    "def cubic_augment(x):\n",
    "    return (beta_0 + beta_1*x + beta_2 * (x ** 2) + beta_3 * (x ** 3)) + np.random.uniform(-5, 5, size=1)\n",
    "\n",
    "cubic_np = np.vectorize(cubic_augment)\n",
    "\n",
    "X_train = np.random.uniform(-5, 5, size=30)\n",
    "y_train = cubic_np(X_train)"
   ]
  },
  {
   "cell_type": "code",
   "execution_count": 3,
   "metadata": {},
   "outputs": [
    {
     "data": {
      "image/png": "[encoded data removed]",
      "text/plain": [
       "<matplotlib.figure.Figure at 0x9b5ffa2390>"
      ]
     },
     "metadata": {},
     "output_type": "display_data"
    }
   ],
   "source": [
    "plt.scatter(X_train, y_train, c='blue', label='Pseudo Data')\n",
    "plt.xlabel('x', size=14)\n",
    "plt.ylabel('y', size=14)\n",
    "plt.title('Linear Regression')\n",
    "plt.legend()\n",
    "plt.show()"
   ]
  },
  {
   "cell_type": "markdown",
   "metadata": {},
   "source": [
    "### Training the model via gradient descent\n",
    "\n",
    "##### We initialize some model of form $y = \\beta_0 + \\beta_1x + \\beta_2 x^2 + \\beta_3 x^3$ (the degree is a changeable parameter). We then run through one batch (also a tuneable parameter), compute the cost, and perfrom gradient descent.\n",
    "\n",
    "##### Once we feed through one batch, we obtain some $\\hat{y}$, we then find the loss, defined by $ L =(\\hat{y} - y)^2$ (this is know as mse). We now take the partial derivative of the loss function with respect to each paramater ($\\beta$ list)\n",
    "\n",
    "## $\\frac{\\partial L}{\\partial \\beta_0} = 2(\\hat{y} - y)$ \n",
    "\n",
    "## $\\frac{\\partial L}{\\partial \\beta_1} = 2(\\hat{y} - y)  x$ \n",
    "## $\\frac{\\partial L}{\\partial \\beta_2} = 2(\\hat{y} - y) x^2$ \n",
    "## $\\frac{\\partial L}{\\partial \\beta_3} = 2(\\hat{y} - y) x^3$ \n",
    "\n",
    "##### We now subtract the gradient term, times some learning rate, from the original $\\beta$'s"
   ]
  },
  {
   "cell_type": "code",
   "execution_count": 4,
   "metadata": {
    "collapsed": true
   },
   "outputs": [],
   "source": [
    "def train(X_data, y_data, degree=3, batch_size=5, learning_rate=0.0001, return_all=False):\n",
    "    # Initialize the parameter list\n",
    "    beta_list = [np.random.uniform(0, 80) for _ in range(degree + 1)]\n",
    "    all_beta_list = []\n",
    "    convergence = 0.9\n",
    "    # Set the loss to some high value\n",
    "    loss = 500000\n",
    "    previous_losses = []\n",
    "    previous = False\n",
    "    while loss > convergence and previous == False:\n",
    "        loss_list = []\n",
    "        # We are going to be training by vectorization, instead of individually computing the gradients\n",
    "        for i in range(len(X_data) // batch_size):\n",
    "            x_batch = X_data[i * batch_size: (i + 1) * batch_size]\n",
    "            y_batch = y_data[i * batch_size: (i + 1) * batch_size]\n",
    "            \n",
    "            # Compute the predicted value (y hat)\n",
    "            y_hat = np.sum([beta_list[i] * (x_batch ** i) for i in range(degree + 1) ],axis=0)\n",
    "            batch_loss = ((y_hat - y_batch) ** 2) * (1/float(batch_size))\n",
    "            loss_list.append(batch_loss)\n",
    "            # compute a list of the gradients\n",
    "            gradient_list = [np.sum(2 * (y_hat - y_batch) * (x_batch ** i)) for i in range(degree +1)]\n",
    "            \n",
    "            # Update the parameters\n",
    "            beta_list = beta_list - np.multiply(((1.0/float(batch_size)) * learning_rate) , gradient_list)\n",
    "        \n",
    "        # If we want to reutrn a list of all the beta lists\n",
    "        if return_all:\n",
    "            all_beta_list.append(beta_list)\n",
    "        \n",
    "        loss = np.sum(loss_list)\n",
    "        previous_losses.append(loss)\n",
    "        \n",
    "        # The next logic statement checks to see if the last 30 losses are the same, if they are, the training stops\n",
    "        if len(previous_losses) > 50 and list(map(int, previous_losses[-30:-1:])) == list(map(int, previous_losses[-29::])):\n",
    "            previous = True\n",
    "    if return_all:\n",
    "        return all_beta_list\n",
    "    else:\n",
    "        return beta_list"
   ]
  },
  {
   "cell_type": "markdown",
   "metadata": {},
   "source": [
    "### Now we can see visually how the trained model"
   ]
  },
  {
   "cell_type": "code",
   "execution_count": 5,
   "metadata": {
    "collapsed": true
   },
   "outputs": [],
   "source": [
    "# Function that takes a beta list and outputs a function\n",
    "def make_function(x, beta_list):\n",
    "    var_list = [beta_list[i] * (x ** i) for i in range(len(beta_list))]\n",
    "    return sum(var_list)"
   ]
  },
  {
   "cell_type": "code",
   "execution_count": 6,
   "metadata": {},
   "outputs": [
    {
     "data": {
      "image/png": "[encoded data removed]",
      "text/plain": [
       "<matplotlib.figure.Figure at 0x9b62051ef0>"
      ]
     },
     "metadata": {},
     "output_type": "display_data"
    }
   ],
   "source": [
    "beta_list = train(X_train, y_train)\n",
    "\n",
    "x_range = np.arange(-5,5,0.1)\n",
    "plt.plot(x_range, make_function(x_range, beta_list=beta_list), c='red', lw=3, label='Trained Model')\n",
    "plt.scatter(X_train, y_train, c='blue', label='Pseudo Data')\n",
    "plt.xlabel('x', size=14)\n",
    "plt.ylabel('y', size=14)\n",
    "plt.title('Linear Regression')\n",
    "plt.legend()\n",
    "plt.show()"
   ]
  },
  {
   "cell_type": "markdown",
   "metadata": {},
   "source": [
    "### Gradient Descent Gif\n",
    "\n",
    "#### I am not going to run the animation, as it makes the file too large. That should not stop you though!"
   ]
  },
  {
   "cell_type": "code",
   "execution_count": 18,
   "metadata": {
    "collapsed": true
   },
   "outputs": [],
   "source": [
    "%%capture\n",
    "\n",
    "fig, ax = plt.subplots()\n",
    "beta_list = train(X_train, y_train, return_all=True)[:len(beta_list) - 30]\n",
    "frame_number = 30\n",
    "list_index = len(beta_list) // frame_number\n",
    "ax.cla()\n",
    "def update(i):\n",
    "    ax.cla();\n",
    "    x_range = np.arange(-5,5,0.1);\n",
    "    ax.set_ylim(-150, 150);\n",
    "    ax.plot(x_range, make_function(x_range, beta_list=beta_list[i * list_index]), c='red', lw=3, label='Trained Model');\n",
    "    ax.scatter(X_train, y_train, c='blue', label='Pseudo Data');\n",
    "    ax.set_xlabel('x', size=14);\n",
    "    ax.set_ylabel('y', size=14);\n",
    "    ax.set_title('Linear Regression - Epoch: {}'.format(i * list_index), size=18);\n",
    "    ax.legend();\n",
    "    return ax;\n",
    "    \n",
    "anim = FuncAnimation(fig, update, frames=np.arange(0, frame_number + 1), interval=150);"
   ]
  },
  {
   "cell_type": "markdown",
   "metadata": {
    "collapsed": true
   },
   "source": [
    "#### If you would like to save the mp4 above as a gif, you can do the following"
   ]
  },
  {
   "cell_type": "code",
   "execution_count": 26,
   "metadata": {
    "collapsed": true
   },
   "outputs": [],
   "source": [
    "clip = VideoFileClip('**your_mp4_video_path.mp4**')\n",
    "clip.write_gif('**whatever_you_want_to_call_it.gif')"
   ]
  }
 ],
 "metadata": {
  "kernelspec": {
   "display_name": "Python 3",
   "language": "python",
   "name": "python3"
  },
  "language_info": {
   "codemirror_mode": {
    "name": "ipython",
    "version": 3
   },
   "file_extension": ".py",
   "mimetype": "text/x-python",
   "name": "python",
   "nbconvert_exporter": "python",
   "pygments_lexer": "ipython3",
   "version": "3.5.2"
  }
 },
 "nbformat": 4,
 "nbformat_minor": 2
}
