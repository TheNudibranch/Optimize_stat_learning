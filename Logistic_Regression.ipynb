{
 "cells": [
  {
   "cell_type": "markdown",
   "metadata": {},
   "source": [
    "## Import Dependacies"
   ]
  },
  {
   "cell_type": "code",
   "execution_count": 3,
   "metadata": {
    "collapsed": true
   },
   "outputs": [],
   "source": [
    "import numpy as np\n",
    "from numpy import exp\n",
    "import matplotlib.pyplot as plt\n",
    "\n",
    "%matplotlib inline"
   ]
  },
  {
   "cell_type": "markdown",
   "metadata": {},
   "source": [
    "## Creaing Pseudo Data"
   ]
  },
  {
   "cell_type": "code",
   "execution_count": 18,
   "metadata": {
    "collapsed": true
   },
   "outputs": [],
   "source": [
    "beta_0 = 2.0\n",
    "beta_1 = 5.0\n",
    "\n",
    "def logistic(x):\n",
    "    # add a bit of random noise\n",
    "    x += np.random.uniform(-0.5,0.5)\n",
    "    return (exp(beta_0 + beta_1*x) / (1 + exp(beta_0 + beta_1*x)))\n",
    "logistic_np = np.vectorize(logistic)\n",
    "\n",
    "X_train = np.random.uniform(-5,5, size=30)\n",
    "y_train = logistic_np(X_train)"
   ]
  },
  {
   "cell_type": "code",
   "execution_count": 22,
   "metadata": {},
   "outputs": [
    {
     "data": {
      "image/png": "[encoded data removed]",
      "text/plain": [
       "<matplotlib.figure.Figure at 0x90f0058400>"
      ]
     },
     "metadata": {},
     "output_type": "display_data"
    }
   ],
   "source": [
    "plt.scatter(X_train, y_train, c='blue', label='Pseudo Data')\n",
    "plt.xlabel('X', size=14)\n",
    "plt.ylabel('y', size=14)\n",
    "plt.title('Logistic Regression', size=16)\n",
    "plt.legend()\n",
    "plt.show()"
   ]
  },
  {
   "cell_type": "markdown",
   "metadata": {},
   "source": [
    "## Training the model via gradient descent \n",
    "\n",
    "We initialize some model with the logisitic function, given by $$ p(X) = \\frac{1}{1+e^{\\beta_0 + \\beta_1X}}.$$\n",
    "\n",
    "For logisitic regression, it is standard to use the log-likelihood for the loss function, given by $\\ell$"
   ]
  },
  {
   "cell_type": "code",
   "execution_count": null,
   "metadata": {
    "collapsed": true
   },
   "outputs": [],
   "source": []
  }
 ],
 "metadata": {
  "kernelspec": {
   "display_name": "Python 3",
   "language": "python",
   "name": "python3"
  },
  "language_info": {
   "codemirror_mode": {
    "name": "ipython",
    "version": 3
   },
   "file_extension": ".py",
   "mimetype": "text/x-python",
   "name": "python",
   "nbconvert_exporter": "python",
   "pygments_lexer": "ipython3",
   "version": "3.5.2"
  }
 },
 "nbformat": 4,
 "nbformat_minor": 2
}
